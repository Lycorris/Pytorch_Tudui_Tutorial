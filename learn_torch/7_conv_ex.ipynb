{
 "cells": [
  {
   "cell_type": "code",
   "execution_count": 8,
   "id": "initial_id",
   "metadata": {
    "collapsed": true,
    "ExecuteTime": {
     "end_time": "2024-03-10T05:35:55.247406Z",
     "start_time": "2024-03-10T05:35:55.243200Z"
    }
   },
   "outputs": [],
   "source": [
    "import torch\n",
    "import torch.nn.functional as F"
   ]
  },
  {
   "cell_type": "code",
   "execution_count": null,
   "outputs": [],
   "source": [
    "mypic = torch.tensor([[1, 2, 0, 3, 1],\n",
    "                      [0, 1, 2, 3, 1],\n",
    "                      [1, 2, 1, 0, 0],\n",
    "                      [5, 2, 3, 1, 1],\n",
    "                      [2, 1, 0, 1, 1]], dtype=torch.float32)  # (5, 5)\n",
    "\n",
    "kernel = torch.tensor([[1, 2, 1],\n",
    "                       [0, 1, 0],\n",
    "                       [2, 1, 0]], dtype=torch.float32)  # (3, 3)"
   ],
   "metadata": {
    "collapsed": false
   },
   "id": "8ef31fc569567007"
  },
  {
   "cell_type": "markdown",
   "source": [
    "original pic: H * W\n",
    "Conv input: N, C, H, W\n",
    "        -> BatchSz, Channel, H, W"
   ],
   "metadata": {
    "collapsed": false
   },
   "id": "ccbc430b5e6950c7"
  },
  {
   "cell_type": "code",
   "execution_count": 10,
   "outputs": [],
   "source": [
    "mypic = torch.reshape(mypic, (1, 1, 5, 5))  # N, C, H, W\n",
    "kernel = torch.reshape(kernel, (1, 1, 3, 3))  # N, C, H, W"
   ],
   "metadata": {
    "collapsed": false,
    "ExecuteTime": {
     "end_time": "2024-03-10T05:38:33.440968Z",
     "start_time": "2024-03-10T05:38:33.435131Z"
    }
   },
   "id": "76cc949e528db9a5"
  },
  {
   "cell_type": "markdown",
   "source": [
    "# torch.nn.functional.conv2D\n",
    "    param: input(N, C, H, W),\n",
    "           weight(N, C, H, W), # kernel\n",
    "           padding, # padding around input\n",
    "           stride, # kernel stride"
   ],
   "metadata": {
    "collapsed": false
   },
   "id": "8d33c0ac4fb2f1e5"
  },
  {
   "cell_type": "code",
   "execution_count": null,
   "outputs": [],
   "source": [
    "def myconv(input=mypic, weight=kernel, padding=0, stride=1):    \n",
    "    return F.conv2d(input=input, weight=weight, padding=padding, stride=stride)\n",
    "myconv(padding=0, stride=1), myconv(padding=0, stride=2), myconv(padding=1, stride=1)"
   ],
   "metadata": {
    "collapsed": false
   },
   "id": "ba6fc520c7551788"
  },
  {
   "cell_type": "markdown",
   "source": [
    "# torch.nn.Conv2D\n",
    "    param: inchannel,\n",
    "           outchannel,\n",
    "           kernalsize,\n",
    "           padding, # padding around input\n",
    "           dilation, # dailation among kernel\n",
    "           stride,..."
   ],
   "metadata": {
    "collapsed": false
   },
   "id": "4937f772bf47c385"
  },
  {
   "cell_type": "markdown",
   "source": [
    "# torch.nn.MaxPool2D\n",
    "    param: kernel_size,\n",
    "           stride,\n",
    "           padding,\n",
    "           dilation,\n",
    "           ceil_mode,   # ceil/floor(kernel_size/stride)"
   ],
   "metadata": {
    "collapsed": false
   },
   "id": "bc28ee99a8a44e44"
  },
  {
   "cell_type": "code",
   "execution_count": 20,
   "outputs": [
    {
     "data": {
      "text/plain": "tensor([[[[2, 3, 3],\n          [5, 3, 3],\n          [5, 3, 3]]]])"
     },
     "execution_count": 20,
     "metadata": {},
     "output_type": "execute_result"
    }
   ],
   "source": [
    "F.max_pool2d(mypic, 3, 1, 0)"
   ],
   "metadata": {
    "collapsed": false,
    "ExecuteTime": {
     "end_time": "2024-03-10T07:18:27.208576Z",
     "start_time": "2024-03-10T07:18:27.200716Z"
    }
   },
   "id": "ff3ed8bff0dc629"
  },
  {
   "cell_type": "code",
   "execution_count": null,
   "outputs": [],
   "source": [],
   "metadata": {
    "collapsed": false
   },
   "id": "a289aeada95c3ee0"
  }
 ],
 "metadata": {
  "kernelspec": {
   "display_name": "Python 3",
   "language": "python",
   "name": "python3"
  },
  "language_info": {
   "codemirror_mode": {
    "name": "ipython",
    "version": 2
   },
   "file_extension": ".py",
   "mimetype": "text/x-python",
   "name": "python",
   "nbconvert_exporter": "python",
   "pygments_lexer": "ipython2",
   "version": "2.7.6"
  }
 },
 "nbformat": 4,
 "nbformat_minor": 5
}

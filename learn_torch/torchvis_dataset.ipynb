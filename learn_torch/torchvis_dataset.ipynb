{
 "cells": [
  {
   "cell_type": "code",
   "execution_count": 1,
   "outputs": [],
   "source": [
    "import torchvision\n",
    "from torchvision import transforms\n",
    "from torch.utils.tensorboard import SummaryWriter"
   ],
   "metadata": {
    "collapsed": false,
    "ExecuteTime": {
     "end_time": "2024-03-10T04:03:42.634374Z",
     "start_time": "2024-03-10T04:03:39.941087Z"
    }
   },
   "id": "f1663a0669b9dc39"
  },
  {
   "cell_type": "code",
   "execution_count": 2,
   "outputs": [],
   "source": [
    "trans_tensor = transforms.Compose([\n",
    "    transforms.ToTensor(),\n",
    "])"
   ],
   "metadata": {
    "collapsed": false,
    "ExecuteTime": {
     "end_time": "2024-03-10T04:03:42.638450Z",
     "start_time": "2024-03-10T04:03:42.635206Z"
    }
   },
   "id": "a6095784c000b232"
  },
  {
   "cell_type": "code",
   "execution_count": 3,
   "id": "initial_id",
   "metadata": {
    "collapsed": true,
    "ExecuteTime": {
     "end_time": "2024-03-10T04:03:44.246Z",
     "start_time": "2024-03-10T04:03:42.639857Z"
    }
   },
   "outputs": [
    {
     "name": "stdout",
     "output_type": "stream",
     "text": [
      "Files already downloaded and verified\n",
      "Files already downloaded and verified\n"
     ]
    }
   ],
   "source": [
    "train_set = torchvision.datasets.CIFAR10(\n",
    "    root='./CIFAR',\n",
    "    train=True,\n",
    "    transform=trans_tensor,\n",
    "    download=True\n",
    ")\n",
    "test_set = torchvision.datasets.CIFAR10(\n",
    "    root='./CIFAR',\n",
    "    train=False,\n",
    "    transform=trans_tensor,\n",
    "    download=True\n",
    ")"
   ]
  },
  {
   "cell_type": "markdown",
   "source": [
    "迅雷使用链接加速下载"
   ],
   "metadata": {
    "collapsed": false
   },
   "id": "603312e024c0592"
  },
  {
   "cell_type": "code",
   "execution_count": 6,
   "outputs": [],
   "source": [
    "writer = SummaryWriter('logs')\n",
    "for i in range(10):\n",
    "    img, target = test_set[i]\n",
    "    writer.add_image('test_img', img, i)\n",
    "writer.close()"
   ],
   "metadata": {
    "collapsed": false,
    "ExecuteTime": {
     "end_time": "2024-03-10T04:06:01.794116Z",
     "start_time": "2024-03-10T04:06:01.709542Z"
    }
   },
   "id": "f5ce3483ce55279d"
  }
 ],
 "metadata": {
  "kernelspec": {
   "display_name": "Python 3",
   "language": "python",
   "name": "python3"
  },
  "language_info": {
   "codemirror_mode": {
    "name": "ipython",
    "version": 2
   },
   "file_extension": ".py",
   "mimetype": "text/x-python",
   "name": "python",
   "nbconvert_exporter": "python",
   "pygments_lexer": "ipython2",
   "version": "2.7.6"
  }
 },
 "nbformat": 4,
 "nbformat_minor": 5
}

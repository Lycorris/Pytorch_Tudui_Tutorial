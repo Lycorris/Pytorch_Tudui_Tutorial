{
 "cells": [
  {
   "cell_type": "code",
   "execution_count": 2,
   "id": "initial_id",
   "metadata": {
    "collapsed": true,
    "ExecuteTime": {
     "end_time": "2024-03-09T14:01:46.953657Z",
     "start_time": "2024-03-09T14:01:37.229918Z"
    }
   },
   "outputs": [],
   "source": [
    "from torchvision import transforms\n",
    "from PIL import Image\n",
    "from torch.utils.tensorboard import SummaryWriter"
   ]
  },
  {
   "cell_type": "markdown",
   "source": [
    "# 1. ToTensor PIL/Numpy -> tensor\n",
    "    init: transforms.ToTensor()\n",
    "    call: tensor_trans(\n",
    "                pic: PIL Image or numpy.ndarray\n",
    "           ) -> tensor"
   ],
   "metadata": {
    "collapsed": false
   },
   "id": "cd51ad1cd7ae119e"
  },
  {
   "cell_type": "code",
   "execution_count": 3,
   "outputs": [],
   "source": [
    "img_path = 'data/train/ants/0013035.jpg'\n",
    "img = Image.open(img_path)"
   ],
   "metadata": {
    "collapsed": false,
    "ExecuteTime": {
     "end_time": "2024-03-09T14:01:50.619046Z",
     "start_time": "2024-03-09T14:01:50.593715Z"
    }
   },
   "id": "a38b48658266065d"
  },
  {
   "cell_type": "code",
   "execution_count": 4,
   "outputs": [],
   "source": [
    "writer = SummaryWriter('logs')\n",
    "\n",
    "tensor_trans = transforms.ToTensor()\n",
    "img_tensor = tensor_trans(img)\n",
    "\n",
    "writer.add_image('trans_test', img_tensor, 1)\n",
    "\n",
    "writer.close()"
   ],
   "metadata": {
    "collapsed": false,
    "ExecuteTime": {
     "end_time": "2024-03-09T14:01:51.630852Z",
     "start_time": "2024-03-09T14:01:51.388889Z"
    }
   },
   "id": "4a2b278843ca19c4"
  },
  {
   "cell_type": "markdown",
   "source": [
    "# 2. Normalize tensor -> tensor\n",
    "    output[channel] = (input[channel] - mean[channel]) / std[channel]\n",
    "    init: transforms.Normalize(mean, std)\n"
   ],
   "metadata": {
    "collapsed": false
   },
   "id": "bbce97e7c13b6b48"
  },
  {
   "cell_type": "code",
   "execution_count": 7,
   "outputs": [],
   "source": [
    "trans_norm = transforms.Normalize([0.5, 0.5, 0.5], [0.5, 0.5, 0.5])\n",
    "img_norm = trans_norm(img_tensor)\n",
    "writer.add_image(\"norm\", img_norm, 1)"
   ],
   "metadata": {
    "collapsed": false,
    "ExecuteTime": {
     "end_time": "2024-03-09T14:34:12.789415Z",
     "start_time": "2024-03-09T14:34:12.551557Z"
    }
   },
   "id": "c5194ad89d81b22f"
  },
  {
   "cell_type": "markdown",
   "source": [
    "# 3.Resize PIL -> PIL\n",
    "    init: transforms.Resize((X, Y))\n",
    "    call: trans_resize(img: PIL)"
   ],
   "metadata": {
    "collapsed": false
   },
   "id": "cb6b547dbc07bf08"
  },
  {
   "cell_type": "code",
   "execution_count": 9,
   "outputs": [],
   "source": [
    "trans_resize = transforms.Resize((512, 512))\n",
    "img_resize = trans_resize(img)\n",
    "img_resize = tensor_trans(img_resize)\n",
    "writer.add_image(\"resize\", img_resize, 1)"
   ],
   "metadata": {
    "collapsed": false,
    "ExecuteTime": {
     "end_time": "2024-03-09T14:43:25.997543Z",
     "start_time": "2024-03-09T14:43:25.808217Z"
    }
   },
   "id": "50d46e6bd70706a1"
  },
  {
   "cell_type": "markdown",
   "source": [
    "# 4. Compose\n",
    "     transforms.Compose([\n",
    "         transforms.CenterCrop(10),\n",
    "         transforms.PILToTensor(),\n",
    "         transforms.ConvertImageDtype(torch.float),\n",
    "     ])"
   ],
   "metadata": {
    "collapsed": false
   },
   "id": "4df7fc879cda5d86"
  },
  {
   "cell_type": "code",
   "execution_count": 12,
   "outputs": [],
   "source": [
    "trans_compose_RTN = transforms.Compose([\n",
    "    transforms.Resize(512),\n",
    "    transforms.ToTensor(),\n",
    "    transforms.Normalize([0.5, 0.5, 0.5], [0.5, 0.5, 0.5]),\n",
    "])\n",
    "img_RTN = trans_compose_RTN(img)\n",
    "writer.add_image('compose', img_RTN)"
   ],
   "metadata": {
    "collapsed": false,
    "ExecuteTime": {
     "end_time": "2024-03-09T14:51:15.533356Z",
     "start_time": "2024-03-09T14:51:15.347634Z"
    }
   },
   "id": "9e3a96f07d823a18"
  },
  {
   "cell_type": "markdown",
   "source": [
    "# 5. RandomCrop PIL -> PIL\n",
    "    init: Randomcrop(size)\n",
    "    call: randcrop(img: PIL)"
   ],
   "metadata": {
    "collapsed": false
   },
   "id": "fca87dfdc3f3153e"
  },
  {
   "cell_type": "code",
   "execution_count": 15,
   "outputs": [],
   "source": [
    "trans_compose_RTNC = transforms.Compose([\n",
    "    transforms.RandomCrop(512),\n",
    "    trans_compose_RTN,\n",
    "])\n",
    "for i in range(10):\n",
    "    img_RTN_RC = trans_compose_RTNC(img)\n",
    "    writer.add_image('randomcrop', img_RTN_RC, i)"
   ],
   "metadata": {
    "collapsed": false,
    "ExecuteTime": {
     "end_time": "2024-03-09T14:55:28.682517Z",
     "start_time": "2024-03-09T14:55:27.532459Z"
    }
   },
   "id": "793c8a296a90afbb"
  }
 ],
 "metadata": {
  "kernelspec": {
   "display_name": "Python 3",
   "language": "python",
   "name": "python3"
  },
  "language_info": {
   "codemirror_mode": {
    "name": "ipython",
    "version": 2
   },
   "file_extension": ".py",
   "mimetype": "text/x-python",
   "name": "python",
   "nbconvert_exporter": "python",
   "pygments_lexer": "ipython2",
   "version": "2.7.6"
  }
 },
 "nbformat": 4,
 "nbformat_minor": 5
}
